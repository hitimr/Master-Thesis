{
 "cells": [
  {
   "cell_type": "code",
   "execution_count": 25,
   "metadata": {},
   "outputs": [],
   "source": [
    "import pandas as pd\n",
    "import numpy as np\n",
    "import matplotlib.pyplot as plt"
   ]
  },
  {
   "cell_type": "code",
   "execution_count": 26,
   "metadata": {},
   "outputs": [
    {
     "data": {
      "text/html": [
       "<div>\n",
       "<style scoped>\n",
       "    .dataframe tbody tr th:only-of-type {\n",
       "        vertical-align: middle;\n",
       "    }\n",
       "\n",
       "    .dataframe tbody tr th {\n",
       "        vertical-align: top;\n",
       "    }\n",
       "\n",
       "    .dataframe thead th {\n",
       "        text-align: right;\n",
       "    }\n",
       "</style>\n",
       "<table border=\"1\" class=\"dataframe\">\n",
       "  <thead>\n",
       "    <tr style=\"text-align: right;\">\n",
       "      <th></th>\n",
       "      <th>INDEX:1000:&lt;ulong&gt;</th>\n",
       "      <th>origin_z:1000:&lt;float&gt;</th>\n",
       "      <th>intersect_x:1000:&lt;float&gt;</th>\n",
       "      <th>intersect_y:1000:&lt;float&gt;</th>\n",
       "      <th>idx_x:1000:&lt;float&gt;</th>\n",
       "      <th>idx_y:1000:&lt;float&gt;</th>\n",
       "      <th>value:1000:&lt;float&gt;</th>\n",
       "      <th>time:1000:&lt;float&gt;</th>\n",
       "      <th>gt_intersect_x:1000:&lt;float&gt;</th>\n",
       "      <th>gt_intersect_y:1000:&lt;float&gt;</th>\n",
       "    </tr>\n",
       "  </thead>\n",
       "  <tbody>\n",
       "    <tr>\n",
       "      <th>0</th>\n",
       "      <td>0</td>\n",
       "      <td>-50.000000</td>\n",
       "      <td>153</td>\n",
       "      <td>-50</td>\n",
       "      <td>153</td>\n",
       "      <td>0</td>\n",
       "      <td>2.810986</td>\n",
       "      <td>0</td>\n",
       "      <td>100.000000</td>\n",
       "      <td>-50.000000</td>\n",
       "    </tr>\n",
       "    <tr>\n",
       "      <th>1</th>\n",
       "      <td>1</td>\n",
       "      <td>-49.900002</td>\n",
       "      <td>153</td>\n",
       "      <td>-50</td>\n",
       "      <td>153</td>\n",
       "      <td>0</td>\n",
       "      <td>2.810986</td>\n",
       "      <td>0</td>\n",
       "      <td>99.842934</td>\n",
       "      <td>-49.999752</td>\n",
       "    </tr>\n",
       "    <tr>\n",
       "      <th>2</th>\n",
       "      <td>2</td>\n",
       "      <td>-49.799999</td>\n",
       "      <td>153</td>\n",
       "      <td>-50</td>\n",
       "      <td>153</td>\n",
       "      <td>0</td>\n",
       "      <td>2.810986</td>\n",
       "      <td>0</td>\n",
       "      <td>99.685837</td>\n",
       "      <td>-49.999012</td>\n",
       "    </tr>\n",
       "    <tr>\n",
       "      <th>3</th>\n",
       "      <td>3</td>\n",
       "      <td>-49.700001</td>\n",
       "      <td>153</td>\n",
       "      <td>-50</td>\n",
       "      <td>153</td>\n",
       "      <td>0</td>\n",
       "      <td>2.810986</td>\n",
       "      <td>0</td>\n",
       "      <td>99.528770</td>\n",
       "      <td>-49.997780</td>\n",
       "    </tr>\n",
       "    <tr>\n",
       "      <th>4</th>\n",
       "      <td>4</td>\n",
       "      <td>-49.599998</td>\n",
       "      <td>153</td>\n",
       "      <td>-50</td>\n",
       "      <td>153</td>\n",
       "      <td>0</td>\n",
       "      <td>2.810986</td>\n",
       "      <td>0</td>\n",
       "      <td>99.371689</td>\n",
       "      <td>-49.996052</td>\n",
       "    </tr>\n",
       "    <tr>\n",
       "      <th>...</th>\n",
       "      <td>...</td>\n",
       "      <td>...</td>\n",
       "      <td>...</td>\n",
       "      <td>...</td>\n",
       "      <td>...</td>\n",
       "      <td>...</td>\n",
       "      <td>...</td>\n",
       "      <td>...</td>\n",
       "      <td>...</td>\n",
       "      <td>...</td>\n",
       "    </tr>\n",
       "    <tr>\n",
       "      <th>995</th>\n",
       "      <td>995</td>\n",
       "      <td>49.500000</td>\n",
       "      <td>91</td>\n",
       "      <td>49</td>\n",
       "      <td>91</td>\n",
       "      <td>0</td>\n",
       "      <td>-0.180325</td>\n",
       "      <td>91</td>\n",
       "      <td>99.214622</td>\n",
       "      <td>49.993832</td>\n",
       "    </tr>\n",
       "    <tr>\n",
       "      <th>996</th>\n",
       "      <td>996</td>\n",
       "      <td>49.599998</td>\n",
       "      <td>91</td>\n",
       "      <td>49</td>\n",
       "      <td>91</td>\n",
       "      <td>0</td>\n",
       "      <td>-0.180325</td>\n",
       "      <td>91</td>\n",
       "      <td>99.371689</td>\n",
       "      <td>49.996052</td>\n",
       "    </tr>\n",
       "    <tr>\n",
       "      <th>997</th>\n",
       "      <td>997</td>\n",
       "      <td>49.700005</td>\n",
       "      <td>91</td>\n",
       "      <td>49</td>\n",
       "      <td>91</td>\n",
       "      <td>0</td>\n",
       "      <td>-0.180325</td>\n",
       "      <td>91</td>\n",
       "      <td>99.528763</td>\n",
       "      <td>49.997780</td>\n",
       "    </tr>\n",
       "    <tr>\n",
       "      <th>998</th>\n",
       "      <td>998</td>\n",
       "      <td>49.800003</td>\n",
       "      <td>91</td>\n",
       "      <td>49</td>\n",
       "      <td>91</td>\n",
       "      <td>0</td>\n",
       "      <td>-0.180325</td>\n",
       "      <td>91</td>\n",
       "      <td>99.685829</td>\n",
       "      <td>49.999012</td>\n",
       "    </tr>\n",
       "    <tr>\n",
       "      <th>999</th>\n",
       "      <td>999</td>\n",
       "      <td>49.900002</td>\n",
       "      <td>91</td>\n",
       "      <td>49</td>\n",
       "      <td>91</td>\n",
       "      <td>0</td>\n",
       "      <td>-0.180325</td>\n",
       "      <td>91</td>\n",
       "      <td>99.842911</td>\n",
       "      <td>49.999752</td>\n",
       "    </tr>\n",
       "  </tbody>\n",
       "</table>\n",
       "<p>1000 rows × 10 columns</p>\n",
       "</div>"
      ],
      "text/plain": [
       "     INDEX:1000:<ulong>  origin_z:1000:<float>  intersect_x:1000:<float>  \\\n",
       "0                     0             -50.000000                       153   \n",
       "1                     1             -49.900002                       153   \n",
       "2                     2             -49.799999                       153   \n",
       "3                     3             -49.700001                       153   \n",
       "4                     4             -49.599998                       153   \n",
       "..                  ...                    ...                       ...   \n",
       "995                 995              49.500000                        91   \n",
       "996                 996              49.599998                        91   \n",
       "997                 997              49.700005                        91   \n",
       "998                 998              49.800003                        91   \n",
       "999                 999              49.900002                        91   \n",
       "\n",
       "     intersect_y:1000:<float>  idx_x:1000:<float>  idx_y:1000:<float>  \\\n",
       "0                         -50                 153                   0   \n",
       "1                         -50                 153                   0   \n",
       "2                         -50                 153                   0   \n",
       "3                         -50                 153                   0   \n",
       "4                         -50                 153                   0   \n",
       "..                        ...                 ...                 ...   \n",
       "995                        49                  91                   0   \n",
       "996                        49                  91                   0   \n",
       "997                        49                  91                   0   \n",
       "998                        49                  91                   0   \n",
       "999                        49                  91                   0   \n",
       "\n",
       "     value:1000:<float>  time:1000:<float>  gt_intersect_x:1000:<float>  \\\n",
       "0              2.810986                  0                   100.000000   \n",
       "1              2.810986                  0                    99.842934   \n",
       "2              2.810986                  0                    99.685837   \n",
       "3              2.810986                  0                    99.528770   \n",
       "4              2.810986                  0                    99.371689   \n",
       "..                  ...                ...                          ...   \n",
       "995           -0.180325                 91                    99.214622   \n",
       "996           -0.180325                 91                    99.371689   \n",
       "997           -0.180325                 91                    99.528763   \n",
       "998           -0.180325                 91                    99.685829   \n",
       "999           -0.180325                 91                    99.842911   \n",
       "\n",
       "     gt_intersect_y:1000:<float>  \n",
       "0                     -50.000000  \n",
       "1                     -49.999752  \n",
       "2                     -49.999012  \n",
       "3                     -49.997780  \n",
       "4                     -49.996052  \n",
       "..                           ...  \n",
       "995                    49.993832  \n",
       "996                    49.996052  \n",
       "997                    49.997780  \n",
       "998                    49.999012  \n",
       "999                    49.999752  \n",
       "\n",
       "[1000 rows x 10 columns]"
      ]
     },
     "execution_count": 26,
     "metadata": {},
     "output_type": "execute_result"
    }
   ],
   "source": [
    "df = pd.read_csv('../../../build/src/experiments/data.csv', sep=\",\")\n",
    "df"
   ]
  },
  {
   "cell_type": "code",
   "execution_count": 74,
   "metadata": {},
   "outputs": [
    {
     "data": {
      "text/plain": [
       "<matplotlib.legend.Legend at 0x7f1f728c7c70>"
      ]
     },
     "execution_count": 74,
     "metadata": {},
     "output_type": "execute_result"
    },
    {
     "data": {
      "image/png": "[encoded data removed]",
      "text/plain": [
       "<Figure size 480x960 with 1 Axes>"
      ]
     },
     "metadata": {
      "needs_background": "light"
     },
     "output_type": "display_data"
    }
   ],
   "source": [
    "plt.figure(figsize=(4,8), dpi=120)\n",
    "plt.scatter(x=df[\"gt_intersect_x:1000:<float>\"], y=df[\"gt_intersect_y:1000:<float>\"], s=1, c='green', label=\"analytical sphere\")\n",
    "plt.scatter(x=df[\"intersect_x:1000:<float>\"], y=df[\"intersect_y:1000:<float>\"], s=1, c='red', label=\"calculated intersection\")\n",
    "plt.grid()\n",
    "plt.xlim(50,100)\n",
    "plt.legend(markerscale=6)"
   ]
  },
  {
   "cell_type": "code",
   "execution_count": 34,
   "metadata": {},
   "outputs": [
    {
     "data": {
      "text/plain": [
       "(-1.0, 1.0)"
      ]
     },
     "execution_count": 34,
     "metadata": {},
     "output_type": "execute_result"
    },
    {
     "data": {
      "image/png": "[encoded data removed]",
      "text/plain": [
       "<Figure size 240x480 with 1 Axes>"
      ]
     },
     "metadata": {
      "needs_background": "light"
     },
     "output_type": "display_data"
    }
   ],
   "source": [
    "plt.figure(figsize=(3,6), dpi=80)\n",
    "plt.scatter(x=df[\"value:1000:<float>\"], y=df[\"intersect_y:1000:<float>\"], s=1, c='green')\n",
    "plt.grid()\n",
    "plt.xlim(-1,1)\n",
    "plt.xlabel(\"Value\")\n",
    "plt.ylabel(\"\")"
   ]
  },
  {
   "cell_type": "code",
   "execution_count": 70,
   "metadata": {},
   "outputs": [
    {
     "data": {
      "text/plain": [
       "(50.0, 100.0)"
      ]
     },
     "execution_count": 70,
     "metadata": {},
     "output_type": "execute_result"
    },
    {
     "data": {
      "image/png": "[encoded data removed]",
      "text/plain": [
       "<Figure size 480x960 with 1 Axes>"
      ]
     },
     "metadata": {
      "needs_background": "light"
     },
     "output_type": "display_data"
    }
   ],
   "source": [
    "plt.figure(figsize=(4,8), dpi=120)\n",
    "plt.scatter(x=df[\"time:1000:<float>\"], y=df[\"intersect_y:1000:<float>\"], s=1, c='green')\n",
    "plt.grid()\n",
    "plt.xlim(50,100)"
   ]
  },
  {
   "cell_type": "code",
   "execution_count": null,
   "metadata": {},
   "outputs": [],
   "source": []
  }
 ],
 "metadata": {
  "kernelspec": {
   "display_name": "Python 3.10.4 64-bit",
   "language": "python",
   "name": "python3"
  },
  "language_info": {
   "codemirror_mode": {
    "name": "ipython",
    "version": 3
   },
   "file_extension": ".py",
   "mimetype": "text/x-python",
   "name": "python",
   "nbconvert_exporter": "python",
   "pygments_lexer": "ipython3",
   "version": "3.10.4"
  },
  "orig_nbformat": 4,
  "vscode": {
   "interpreter": {
    "hash": "916dbcbb3f70747c44a77c7bcd40155683ae19c65e1c03b4aa3499c5328201f1"
   }
  }
 },
 "nbformat": 4,
 "nbformat_minor": 2
}
