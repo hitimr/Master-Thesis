{
 "cells": [
  {
   "cell_type": "code",
   "execution_count": 6,
   "metadata": {},
   "outputs": [],
   "source": [
    "import pandas as pd\n",
    "import numpy as np\n",
    "import matplotlib.pyplot as plt"
   ]
  },
  {
   "cell_type": "code",
   "execution_count": 62,
   "metadata": {},
   "outputs": [
    {
     "data": {
      "text/html": [
       "<div>\n",
       "<style scoped>\n",
       "    .dataframe tbody tr th:only-of-type {\n",
       "        vertical-align: middle;\n",
       "    }\n",
       "\n",
       "    .dataframe tbody tr th {\n",
       "        vertical-align: top;\n",
       "    }\n",
       "\n",
       "    .dataframe thead th {\n",
       "        text-align: right;\n",
       "    }\n",
       "</style>\n",
       "<table border=\"1\" class=\"dataframe\">\n",
       "  <thead>\n",
       "    <tr style=\"text-align: right;\">\n",
       "      <th></th>\n",
       "      <th>INDEX:1000:&lt;ulong&gt;</th>\n",
       "      <th>origin_z:1000:&lt;float&gt;</th>\n",
       "      <th>intersect_x:1000:&lt;float&gt;</th>\n",
       "      <th>intersect_y:1000:&lt;float&gt;</th>\n",
       "      <th>idx_x:1000:&lt;float&gt;</th>\n",
       "      <th>idx_y:1000:&lt;float&gt;</th>\n",
       "      <th>value:1000:&lt;float&gt;</th>\n",
       "      <th>time:1000:&lt;float&gt;</th>\n",
       "      <th>gt_intersect_x:1000:&lt;float&gt;</th>\n",
       "      <th>gt_intersect_y:1000:&lt;float&gt;</th>\n",
       "    </tr>\n",
       "  </thead>\n",
       "  <tbody>\n",
       "    <tr>\n",
       "      <th>0</th>\n",
       "      <td>0</td>\n",
       "      <td>-5.000000</td>\n",
       "      <td>4</td>\n",
       "      <td>0</td>\n",
       "      <td>49</td>\n",
       "      <td>0</td>\n",
       "      <td>0.281099</td>\n",
       "      <td>0</td>\n",
       "      <td>10.000000</td>\n",
       "      <td>-5.000000</td>\n",
       "    </tr>\n",
       "    <tr>\n",
       "      <th>1</th>\n",
       "      <td>1</td>\n",
       "      <td>-4.990000</td>\n",
       "      <td>4</td>\n",
       "      <td>0</td>\n",
       "      <td>49</td>\n",
       "      <td>0</td>\n",
       "      <td>0.281099</td>\n",
       "      <td>0</td>\n",
       "      <td>9.984293</td>\n",
       "      <td>-4.999975</td>\n",
       "    </tr>\n",
       "    <tr>\n",
       "      <th>2</th>\n",
       "      <td>2</td>\n",
       "      <td>-4.980000</td>\n",
       "      <td>4</td>\n",
       "      <td>0</td>\n",
       "      <td>49</td>\n",
       "      <td>0</td>\n",
       "      <td>0.281099</td>\n",
       "      <td>0</td>\n",
       "      <td>9.968584</td>\n",
       "      <td>-4.999901</td>\n",
       "    </tr>\n",
       "    <tr>\n",
       "      <th>3</th>\n",
       "      <td>3</td>\n",
       "      <td>-4.970000</td>\n",
       "      <td>4</td>\n",
       "      <td>0</td>\n",
       "      <td>49</td>\n",
       "      <td>0</td>\n",
       "      <td>0.281099</td>\n",
       "      <td>0</td>\n",
       "      <td>9.952877</td>\n",
       "      <td>-4.999778</td>\n",
       "    </tr>\n",
       "    <tr>\n",
       "      <th>4</th>\n",
       "      <td>4</td>\n",
       "      <td>-4.960000</td>\n",
       "      <td>4</td>\n",
       "      <td>0</td>\n",
       "      <td>49</td>\n",
       "      <td>0</td>\n",
       "      <td>0.281099</td>\n",
       "      <td>0</td>\n",
       "      <td>9.937169</td>\n",
       "      <td>-4.999605</td>\n",
       "    </tr>\n",
       "    <tr>\n",
       "      <th>...</th>\n",
       "      <td>...</td>\n",
       "      <td>...</td>\n",
       "      <td>...</td>\n",
       "      <td>...</td>\n",
       "      <td>...</td>\n",
       "      <td>...</td>\n",
       "      <td>...</td>\n",
       "      <td>...</td>\n",
       "      <td>...</td>\n",
       "      <td>...</td>\n",
       "    </tr>\n",
       "    <tr>\n",
       "      <th>995</th>\n",
       "      <td>995</td>\n",
       "      <td>4.950000</td>\n",
       "      <td>1</td>\n",
       "      <td>0</td>\n",
       "      <td>10</td>\n",
       "      <td>0</td>\n",
       "      <td>0.001000</td>\n",
       "      <td>10</td>\n",
       "      <td>9.921463</td>\n",
       "      <td>4.999383</td>\n",
       "    </tr>\n",
       "    <tr>\n",
       "      <th>996</th>\n",
       "      <td>996</td>\n",
       "      <td>4.960000</td>\n",
       "      <td>1</td>\n",
       "      <td>0</td>\n",
       "      <td>10</td>\n",
       "      <td>0</td>\n",
       "      <td>0.001000</td>\n",
       "      <td>10</td>\n",
       "      <td>9.937169</td>\n",
       "      <td>4.999605</td>\n",
       "    </tr>\n",
       "    <tr>\n",
       "      <th>997</th>\n",
       "      <td>997</td>\n",
       "      <td>4.969999</td>\n",
       "      <td>1</td>\n",
       "      <td>0</td>\n",
       "      <td>10</td>\n",
       "      <td>0</td>\n",
       "      <td>0.001000</td>\n",
       "      <td>10</td>\n",
       "      <td>9.952876</td>\n",
       "      <td>4.999778</td>\n",
       "    </tr>\n",
       "    <tr>\n",
       "      <th>998</th>\n",
       "      <td>998</td>\n",
       "      <td>4.980000</td>\n",
       "      <td>1</td>\n",
       "      <td>0</td>\n",
       "      <td>10</td>\n",
       "      <td>0</td>\n",
       "      <td>0.001000</td>\n",
       "      <td>10</td>\n",
       "      <td>9.968583</td>\n",
       "      <td>4.999901</td>\n",
       "    </tr>\n",
       "    <tr>\n",
       "      <th>999</th>\n",
       "      <td>999</td>\n",
       "      <td>4.990000</td>\n",
       "      <td>1</td>\n",
       "      <td>0</td>\n",
       "      <td>10</td>\n",
       "      <td>0</td>\n",
       "      <td>0.001000</td>\n",
       "      <td>10</td>\n",
       "      <td>9.984291</td>\n",
       "      <td>4.999975</td>\n",
       "    </tr>\n",
       "  </tbody>\n",
       "</table>\n",
       "<p>1000 rows × 10 columns</p>\n",
       "</div>"
      ],
      "text/plain": [
       "     INDEX:1000:<ulong>  origin_z:1000:<float>  intersect_x:1000:<float>  \\\n",
       "0                     0              -5.000000                         4   \n",
       "1                     1              -4.990000                         4   \n",
       "2                     2              -4.980000                         4   \n",
       "3                     3              -4.970000                         4   \n",
       "4                     4              -4.960000                         4   \n",
       "..                  ...                    ...                       ...   \n",
       "995                 995               4.950000                         1   \n",
       "996                 996               4.960000                         1   \n",
       "997                 997               4.969999                         1   \n",
       "998                 998               4.980000                         1   \n",
       "999                 999               4.990000                         1   \n",
       "\n",
       "     intersect_y:1000:<float>  idx_x:1000:<float>  idx_y:1000:<float>  \\\n",
       "0                           0                  49                   0   \n",
       "1                           0                  49                   0   \n",
       "2                           0                  49                   0   \n",
       "3                           0                  49                   0   \n",
       "4                           0                  49                   0   \n",
       "..                        ...                 ...                 ...   \n",
       "995                         0                  10                   0   \n",
       "996                         0                  10                   0   \n",
       "997                         0                  10                   0   \n",
       "998                         0                  10                   0   \n",
       "999                         0                  10                   0   \n",
       "\n",
       "     value:1000:<float>  time:1000:<float>  gt_intersect_x:1000:<float>  \\\n",
       "0              0.281099                  0                    10.000000   \n",
       "1              0.281099                  0                     9.984293   \n",
       "2              0.281099                  0                     9.968584   \n",
       "3              0.281099                  0                     9.952877   \n",
       "4              0.281099                  0                     9.937169   \n",
       "..                  ...                ...                          ...   \n",
       "995            0.001000                 10                     9.921463   \n",
       "996            0.001000                 10                     9.937169   \n",
       "997            0.001000                 10                     9.952876   \n",
       "998            0.001000                 10                     9.968583   \n",
       "999            0.001000                 10                     9.984291   \n",
       "\n",
       "     gt_intersect_y:1000:<float>  \n",
       "0                      -5.000000  \n",
       "1                      -4.999975  \n",
       "2                      -4.999901  \n",
       "3                      -4.999778  \n",
       "4                      -4.999605  \n",
       "..                           ...  \n",
       "995                     4.999383  \n",
       "996                     4.999605  \n",
       "997                     4.999778  \n",
       "998                     4.999901  \n",
       "999                     4.999975  \n",
       "\n",
       "[1000 rows x 10 columns]"
      ]
     },
     "execution_count": 62,
     "metadata": {},
     "output_type": "execute_result"
    }
   ],
   "source": [
    "df = pd.read_csv('../../../build/src/experiments/data.csv', sep=\",\")\n",
    "df"
   ]
  },
  {
   "cell_type": "code",
   "execution_count": 63,
   "metadata": {},
   "outputs": [
    {
     "data": {
      "text/plain": [
       "<matplotlib.collections.PathCollection at 0x7f2403678af0>"
      ]
     },
     "execution_count": 63,
     "metadata": {},
     "output_type": "execute_result"
    },
    {
     "data": {
      "image/png": "[encoded data removed]",
      "text/plain": [
       "<Figure size 240x480 with 1 Axes>"
      ]
     },
     "metadata": {
      "needs_background": "light"
     },
     "output_type": "display_data"
    }
   ],
   "source": [
    "plt.figure(figsize=(3,6), dpi=80)\n",
    "plt.scatter(x=df[\"gt_intersect_x:1000:<float>\"], y=df[\"gt_intersect_y:1000:<float>\"], s=1, c='green')\n"
   ]
  },
  {
   "cell_type": "code",
   "execution_count": 64,
   "metadata": {},
   "outputs": [
    {
     "data": {
      "text/plain": [
       "<matplotlib.collections.PathCollection at 0x7f24036dc280>"
      ]
     },
     "execution_count": 64,
     "metadata": {},
     "output_type": "execute_result"
    },
    {
     "data": {
      "image/png": "[encoded data removed]",
      "text/plain": [
       "<Figure size 240x480 with 1 Axes>"
      ]
     },
     "metadata": {
      "needs_background": "light"
     },
     "output_type": "display_data"
    }
   ],
   "source": [
    "plt.figure(figsize=(3,6), dpi=80)\n",
    "plt.scatter(x=df[\"idx_x:1000:<float>\"], y=df[\"idx_y:1000:<float>\"], s=1, c='green')"
   ]
  },
  {
   "cell_type": "code",
   "execution_count": 60,
   "metadata": {},
   "outputs": [
    {
     "data": {
      "text/plain": [
       "0      4\n",
       "1      4\n",
       "2      4\n",
       "3      4\n",
       "4      4\n",
       "      ..\n",
       "995    1\n",
       "996    1\n",
       "997    1\n",
       "998    1\n",
       "999    1\n",
       "Name: intersect_x:1000:<float>, Length: 1000, dtype: int64"
      ]
     },
     "execution_count": 60,
     "metadata": {},
     "output_type": "execute_result"
    }
   ],
   "source": [
    "df[\"intersect_x:1000:<float>\"]"
   ]
  },
  {
   "cell_type": "code",
   "execution_count": null,
   "metadata": {},
   "outputs": [],
   "source": []
  }
 ],
 "metadata": {
  "kernelspec": {
   "display_name": "Python 3.10.4 64-bit",
   "language": "python",
   "name": "python3"
  },
  "language_info": {
   "codemirror_mode": {
    "name": "ipython",
    "version": 3
   },
   "file_extension": ".py",
   "mimetype": "text/x-python",
   "name": "python",
   "nbconvert_exporter": "python",
   "pygments_lexer": "ipython3",
   "version": "3.10.4"
  },
  "orig_nbformat": 4,
  "vscode": {
   "interpreter": {
    "hash": "916dbcbb3f70747c44a77c7bcd40155683ae19c65e1c03b4aa3499c5328201f1"
   }
  }
 },
 "nbformat": 4,
 "nbformat_minor": 2
}
