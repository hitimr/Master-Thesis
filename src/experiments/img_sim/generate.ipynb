{
 "cells": [
  {
   "cell_type": "code",
   "execution_count": 1,
   "metadata": {},
   "outputs": [],
   "source": [
    "from sinntelligence.util import PROJECT_ROOT_DIR\n",
    "import pyopenvdb as vdb\n",
    "from pathlib import Path"
   ]
  },
  {
   "cell_type": "code",
   "execution_count": 2,
   "metadata": {},
   "outputs": [],
   "source": [
    "sensor = vdb.FloatGrid()\n",
    "sensor.fill(min=(0, 0, 0), max=(1920, 1080, 1), value=1)\n",
    "sensor.name = \"sensor\"\n",
    "\n",
    "\n",
    "grid_dir = Path(PROJECT_ROOT_DIR / \"build/grids/\")\n",
    "grid_dir.mkdir(parents=True, exist_ok=True)\n",
    "outfile = str(grid_dir / \"sensor_1920x1080.vdb\")\n",
    "vdb.write(outfile, grids=[sensor])"
   ]
  }
 ],
 "metadata": {
  "kernelspec": {
   "display_name": "Python 3",
   "language": "python",
   "name": "python3"
  },
  "language_info": {
   "codemirror_mode": {
    "name": "ipython",
    "version": 3
   },
   "file_extension": ".py",
   "mimetype": "text/x-python",
   "name": "python",
   "nbconvert_exporter": "python",
   "pygments_lexer": "ipython3",
   "version": "3.10.6"
  },
  "orig_nbformat": 4
 },
 "nbformat": 4,
 "nbformat_minor": 2
}
